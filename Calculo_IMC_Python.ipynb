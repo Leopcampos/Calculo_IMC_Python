{
  "nbformat": 4,
  "nbformat_minor": 0,
  "metadata": {
    "colab": {
      "name": "Calculo_IMC_Python.ipynb",
      "provenance": [],
      "authorship_tag": "ABX9TyM3PkNiHpuFBxXU5I2FSswy",
      "include_colab_link": true
    },
    "kernelspec": {
      "name": "python3",
      "display_name": "Python 3"
    },
    "language_info": {
      "name": "python"
    }
  },
  "cells": [
    {
      "cell_type": "markdown",
      "metadata": {
        "id": "view-in-github",
        "colab_type": "text"
      },
      "source": [
        "<a href=\"https://colab.research.google.com/github/Leopcampos/Calculo_IMC_Python/blob/main/Calculo_IMC_Python.ipynb\" target=\"_parent\"><img src=\"https://colab.research.google.com/assets/colab-badge.svg\" alt=\"Open In Colab\"/></a>"
      ]
    },
    {
      "cell_type": "code",
      "metadata": {
        "id": "gAo-Jckc3rTj"
      },
      "source": [
        "# Cálculo do IMC\n",
        "# Fórmula IMC = peso / (altura**)\n",
        "# abaixo de 17 => muito abaixo do peso\n",
        "# entre 17 e 18.5 => Abaixo do peso\n",
        "# entre 18.5 e 25 => peso normal\n",
        "# 25 e 30 => acima do peso\n",
        "# 30 e 35 => obesidade grau I\n",
        "# 35 e 40 => obesidade grau II\n",
        "# acima de 40 => obesidade mórbida\n",
        "\n",
        "print(\"Olá, vamos ajudar você a ficar saudável. Primeiro precisamos saber o seu IMC\")\n",
        "peso = float(input(\"Digite o seu peso: \"))\n",
        "altura = float(input(\"Digite a sua altura: \"))\n",
        "imc = peso / (altura**2)\n",
        "print(\"Seu IMC é {}\".format(imc))\n",
        "if imc < 17:\n",
        "  print (\"Você está muito abaixo do peso\")\n",
        "elif imc >=17 and imc < 18.5:\n",
        " print(\"Você está abaixo do peso\") \n",
        "elif imc >=18.5 and imc < 25:\n",
        " print(\"Você está no peso normal\") \n",
        "elif imc >=25 and imc < 30:\n",
        " print(\"Você está acima do peso\") \n",
        "elif imc >=30 and imc < 35:\n",
        " print(\"Você está com obesidade grau I\") \n",
        "elif imc >=35 and imc < 40:\n",
        " print(\"Você está com obesidade grau II\") \n",
        "elif imc >= 40:\n",
        " print(\"Você está com obesidade mórbida\") "
      ],
      "execution_count": null,
      "outputs": []
    }
  ]
}